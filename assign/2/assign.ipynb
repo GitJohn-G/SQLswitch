{
  "cells": [
    {
      "cell_type": "markdown",
      "metadata": {
        "id": "-obKqpSYvbzx"
      },
      "source": [
        "# Εργασία 2: Αριθμητική κινητής υποδιαστολής και γραμμικά συστήματα\n",
        "\n",
        "## Οδηγίες\n",
        "\n",
        "- Όι ζητούμενες συναρτήσεις δεν πρέπει έχουν αναφορές σε global μεταβλητές εκτός από τις σταθερές καθιερωμένων μονάδων κώδικα (π.χ numpy.pi) και όσες μεταβλητές δίνονται στο πρώτο κελί.\n",
        "- Ο αριθμός μητρώου πρέπει να είναι σύμφωνος με αυτόν που έχει δηλωθεί στο προφίλ του eclass.\n",
        "- Όπου χρησιμοποιούνται ψηφία του αριθμού μητρώου, πρέπει να είναι απευθείας δηλωμένα στον κώδικα (hard-coded) κάθε συνάρτησης και όχι να εξάγονται από τον ΑΜ.\n",
        "- Το αρχείο της εργασίας πρέπει να τρέχει εξ ολοκλήρου (Run All) για να βαθμολογηθεί.\n",
        "\n",
        "```\n",
        "ΠΡΟΣΟΧΗ: Υπάρχουν προφανή τυπογραφικά λάθη στις εκφωνήσεις.\n",
        "```"
      ]
    },
    {
      "cell_type": "code",
      "execution_count": 7,
      "metadata": {
        "tags": [
          "imports"
        ],
        "id": "hB8zsif1vbz0"
      },
      "outputs": [],
      "source": [
        "# Εισαγωγή μονάδων κώδικα\n",
        "# - Μην αλλάζετε αυτό το κελί.\n",
        "\n",
        "import numpy as np\n",
        "import matplotlib.pyplot as plt\n",
        "C=1e10\n"
      ]
    },
    {
      "cell_type": "code",
      "execution_count": 8,
      "metadata": {
        "id": "WdQngwfQvbz2"
      },
      "outputs": [],
      "source": [
        "# Στοιχεία φοιτητή\n",
        "# - Εισάγετε το όνομά σας με ελληνικούς χαρακτήρες.\n",
        "\n",
        "onoma = \"ΙΩΑΝΝΗΣ\"\n",
        "eponymo = \"ΓΡΗΓΟΡΙΑΔΗΣ\"\n",
        "AM = 3122090\n"
      ]
    },
    {
      "cell_type": "markdown",
      "metadata": {
        "id": "vGkkxCM9vbz2"
      },
      "source": [
        "## Άσκηση 1\n",
        "Γράψτε μια συνάρτηση με το όνομα `myfunction1` που δέχεται ως όρισμα ενα διάνυσμα $C=[c_a,c_b,c_c]$ και υπολογίζει τις ρίζες του τριωνύμου\n",
        "\n",
        "$$c_a (1+a) x^2+c_b(1+b) x+c_c (1+c)=0$$\n",
        "\n",
        "όπου a,b,c τα 3 τελευταία ψηφία του αριθμού μητρώου σας (c=τελευταίο).\n",
        "\n",
        "Η συνάρτηση πρέπει να επιστρέφει ένα διάνυσμα δύο τιμών με τις ρίζες, εκτός από τις 2 παρακάτω περιπτώσεις:\n",
        "- Όταν το τριώνυμο απλοποιείται σε εξίσωση πρώτου βαθμού, η δεύτερη τιμή πρέπει να είναι απροσδιόριστη.\n",
        "- Όταν δεν υπάρχουν πραγματικές ρίζες ή η εξίσωση είναι αδύνατη, η συνάρτηση πρέπει να επιστρέφει δύο απροσδιόριστες τιμές.\n",
        "\n",
        "Χρησιμοποιήσετε την εναλλακτική έκφραση για την δεύτερη ρίζα.\n",
        "\n",
        "Ελέγξτε τα αποτελέσματα της συνάρτησης για:\n",
        "\n",
        "- $C=[1,-1,-1]$\n",
        "- $C=[1,-10000,-1000]$\n",
        "- $C=[0,1,-1]$\n"
      ]
    },
    {
      "cell_type": "code",
      "execution_count": 9,
      "metadata": {
        "id": "Nxftok38vbz3"
      },
      "outputs": [],
      "source": [
        "# Λύση της άσκησης 1\n",
        "# - Σε αυτό το κελί γράψτε μόνο τις ζητούμενες συναρτήσεις χωρίς print και input.\n",
        "\n",
        "import numpy as np\n",
        "\n",
        "def myfunction1(C: np.ndarray) -> np.ndarray:\n",
        "    a = 0\n",
        "    b = 9\n",
        "    c = 0\n",
        "\n",
        "    ca = C[0]\n",
        "    cb = C[1]\n",
        "    cc = C[2]\n",
        "\n",
        "    A = ca * (1 + a)\n",
        "    B = cb * (1 + b)\n",
        "    C = cc * (1 + c)\n",
        "\n",
        "    xroot = np.array([0., 0.])\n",
        "\n",
        "    if A == 0:\n",
        "        if B != 0:\n",
        "            xroot[0] = -C / B\n",
        "            xroot[1] = np.nan\n",
        "        else:\n",
        "            xroot[0] = np.nan\n",
        "            xroot[1] = np.nan\n",
        "    else:\n",
        "        discriminant = B**2 - 4 * A * C\n",
        "        if discriminant >= 0:\n",
        "            xroot[0] = (-B + np.sqrt(discriminant)) / (2 * A)\n",
        "            xroot[1] = (-B - np.sqrt(discriminant)) / (2 * A)\n",
        "        else:\n",
        "            xroot[0] = np.nan\n",
        "            xroot[1] = np.nan\n",
        "\n",
        "    return xroot\n",
        "\n",
        "result1 = myfunction1(np.array([1, -1, -1]))\n",
        "result2 = myfunction1(np.array([1, -10000, -1000]))\n",
        "result3 = myfunction1(np.array([0, 1, -1]))\n",
        "\n",
        "\n",
        "\n"
      ]
    },
    {
      "cell_type": "code",
      "execution_count": 10,
      "metadata": {
        "tags": [
          "worksheet"
        ],
        "colab": {
          "base_uri": "https://localhost:8080/"
        },
        "id": "XIKRsC56vbz3",
        "outputId": "fd4a0e12-a487-48b0-a4bc-6992cc6eaacf"
      },
      "outputs": [
        {
          "output_type": "stream",
          "name": "stdout",
          "text": [
            "[10.09901951 -0.09901951] [ 1.0000001e+05 -9.9999990e-03] [0.1 nan]\n"
          ]
        }
      ],
      "source": [
        "# Πρόχειρο άσκησης 1\n",
        "# - Σε αυτό το κελί μπορείτε να τυπώσετε μεταβλητές και να κάνετε γραφικές παραστάσεις για επαλήθευση. Δεν λαμβάνεται υπόψη στην βαθμολόγηση.\n",
        "\n",
        "print(myfunction1(np.array([1.,-1.,-1.])), myfunction1(np.array([1.,-10000.,-1000.])), myfunction1(np.array([0.,1.,-1.])))\n"
      ]
    },
    {
      "cell_type": "markdown",
      "metadata": {
        "id": "nx6CTPWWvbz3"
      },
      "source": [
        "## Άσκηση 2\n",
        "\n",
        "Η μετάδοση θερμότητας εντός ενός μονοδιάστατου τοιχώματος σε συνθήκες μόνιμης κατάστασης δίνεται από την διαφορική εξίσωση:\n",
        "\n",
        "$$\n",
        "\\frac{d}{dx}\\left(k\\frac{dT}{dx}\\right)=0\n",
        "$$\n",
        "\n",
        "με τις παρακάτω οριακές συνθήκες σε πρακτικές εφαρμογές:\n",
        "$$\n",
        "\\left. {-k\\frac{dT}{dx}}\\right|_{x=0}=h_{in}(T_{in}-T_{x=0})\\\\\n",
        "\\left. -k\\frac{dT}{dx}\\right|_{x=L}=h_{out}(T_{x=L}-T_{out})\n",
        "$$\n",
        "\n",
        "Το παραπάνω πρόβλημα μπορεί να λυθεί αριθμητικά εφαρμόζοντας πεπερασμένες διαφορές και καταλήγοντας σε ένα γραμμικό σύστημα $n$ εξισώσεων και $n$ άγνωστων θερμοκρασιών που αντιστοιχούν στα σημεία $0,Δx,2Δx,\\dots,L$:\n",
        "\n",
        "$$\n",
        "\\begin{bmatrix}\n",
        "\\frac{k}{Δx}+h_{in} & -\\frac{k}{Δx} & 0 & {\\ldots} & 0 &{\\ldots}& 0 \\\\\n",
        "-\\frac{k}{Δx} & 2\\frac{k}{Δx} & -\\frac{k}{Δx} & {\\ldots} & 0 &{\\ldots}& 0 \\\\\n",
        "0 & -\\frac{k}{Δx} & 2\\frac{k}{Δx} & -\\frac{k}{Δx} & 0 &{\\ldots}& 0 \\\\\n",
        "{\\ldots} &{\\ldots} &{\\ldots} & {\\ldots}&{\\ldots} &{\\ldots}&{\\ldots}\\\\\n",
        "0 & 0 & -\\frac{k}{Δx}& 2\\frac{k}{Δx}& -\\frac{k}{Δx} & 0 &{\\ldots} \\\\\n",
        "{\\ldots} &{\\ldots} &{\\ldots} & {\\ldots}&{\\ldots}&{\\ldots}&{\\ldots} \\\\\n",
        "0& 0 & 0 & {\\ldots}& 0 & -\\frac{k}{Δx} &\\frac{k}{Δx}+h_{out} \\\\\n",
        "\\end{bmatrix}\n",
        "\\begin{bmatrix}\n",
        "T_1\\\\\n",
        "T_2\\\\\n",
        "T_3\\\\\n",
        "{\\ldots}\\\\\n",
        "{T_i}\\\\\n",
        "{\\ldots}\\\\\n",
        "T_n\\\\\n",
        "\\end{bmatrix}\n",
        "=\n",
        "\\begin{bmatrix}\n",
        "h_{in}T_{in}\\\\\n",
        "0\\\\\n",
        "0\\\\\n",
        "{\\ldots}\\\\\n",
        "0\\\\\n",
        "{\\ldots}\\\\\n",
        "h_{out}T_{out}\\\\\n",
        "\\end{bmatrix}\n",
        "$$\n",
        "\n",
        "με\n",
        "- $k$ τον συντελεστή θερμικής αγωγιμότητας του υλικού του τοιχώματος\n",
        "- $Δx=\\frac{L}{n-1}$ το χωρικό βήμα της διακριτοποίησης του πάχους $L$ του τοιχώματος\n",
        "- $h_{in}$ τον συντελεστή συναγωγής στο εσωτερικό\n",
        "- $h_{out}$ τον συντελεστή συναγωγής στο εξωτερικό\n",
        "\n",
        "Γράψτε μια συνάρτηση `myfunction2` που δέχεται ως ορίσματα τα μεγέθη $k,L,h_{in},h_{out},n$ και επιστρέφει ένα διάνυσμα με τις θερμοκρασίες $[Τ_1,Τ_2,\\dots,T_n]$. Για τον υπολογισμό του διανύσματος μπορεί να επιλεγεί οποιαδήποτε μέθοδος επίλυσης.\n",
        "\n",
        "Οι οριακές θερμοκρασίες δίνονται με βάση τον αριθμό μητρώου:\n",
        "- $[21+a-\\frac{b}{2}]*C$\n",
        "- $[8-c]°C$\n",
        "\n",
        "Ελέγξτε τα αποτελέσματα της συνάρτησης για\n",
        "- $k=1\\quad\\frac{W}{mK}$\n",
        "- $L=0.3\\quad m$\n",
        "- $h_{in}=6\\quad \\frac{W}{m^2K}$\n",
        "- $h_{out}=8\\quad \\frac{W}{m^2K}$\n",
        "- $n=10$\n",
        "\n",
        "Για δικιά σας κατανόηση μπορείτε να κατασκευάσετε γράφημα θερμοκρασίας[°C]-απόστασης[m] με τα σημεία $(0,Τ_1),(Δx,T_2),(2Δx,T_3),\\dots,((n-1)Δx,T_n)$.\n",
        "\n",
        "```\n",
        "Ερώτηση για τις εξετάσεις: Λαμβάνοντας υπόψη την μορφή του πίνακα, ποια μέθοδο επίλυσης θα εφαρμόζατε για να περιορίσετε το υπολογιστικό φορτίο;\n",
        "```"
      ]
    },
    {
      "cell_type": "code",
      "execution_count": 11,
      "metadata": {
        "colab": {
          "base_uri": "https://localhost:8080/",
          "height": 472
        },
        "id": "_CcVmXvnvbz4",
        "outputId": "b18164ac-ce98-4afc-a575-f01e21dd30c9"
      },
      "outputs": [
        {
          "output_type": "display_data",
          "data": {
            "text/plain": [
              "<Figure size 640x480 with 1 Axes>"
            ],
            "image/png": "[encoded data removed]"
          },
          "metadata": {}
        }
      ],
      "source": [
        "# Λύση της άσκησης 2\n",
        "# - Σε αυτό το κελί γράψτε μόνο τις ζητούμενες συναρτήσεις χωρίς print και input.\n",
        "def myfunction2(k: float, L: float, hin: float, hout: float, n: int) -> np.ndarray:\n",
        "\n",
        "    a = 0\n",
        "    b = 9\n",
        "    c = 0\n",
        "\n",
        "    Tin = (21 + (a - b) / 2)\n",
        "    Tout = 8 - c\n",
        "\n",
        "    dx = L / (n - 1)\n",
        "\n",
        "    A = np.zeros((n, n))\n",
        "    b = np.zeros(n)\n",
        "\n",
        "    for i in range(n):\n",
        "        if i == 0:\n",
        "            A[i, i] = k / dx + hin\n",
        "            A[i, i + 1] = -k / dx\n",
        "            b[i] = hin * Tin\n",
        "        elif i == n - 1:\n",
        "            A[i, i - 1] = -k / dx\n",
        "            A[i, i] = k / dx + hout\n",
        "            b[i] = hout * Tout\n",
        "        else:\n",
        "            A[i, i - 1] = -k / dx\n",
        "            A[i, i] = 2 * k / dx\n",
        "            A[i, i + 1] = -k / dx\n",
        "\n",
        "    T = np.linalg.solve(A, b)\n",
        "\n",
        "    return T\n",
        "\n",
        "# elegxos sunartishs\n",
        "k = 1\n",
        "L = 0.3\n",
        "hin = 6\n",
        "hout = 8\n",
        "n = 10\n",
        "\n",
        "temperatures = myfunction2(k, L, hin, hout, n)\n",
        "\n",
        "# teleutaio zhtoumeno gia dikia mas katanohsh\n",
        "import matplotlib.pyplot as plt\n",
        "\n",
        "x = np.linspace(0, L, n)\n",
        "plt.plot(x, temperatures, marker='o')\n",
        "plt.xlabel('Distance (m)')\n",
        "plt.ylabel('Temperature (°C)')\n",
        "plt.title('Temperature Distribution in the Wall')\n",
        "plt.grid(True)\n",
        "plt.show()\n"
      ]
    },
    {
      "cell_type": "code",
      "execution_count": 12,
      "metadata": {
        "tags": [
          "worksheet"
        ],
        "colab": {
          "base_uri": "https://localhost:8080/"
        },
        "id": "JiujgwzYvbz4",
        "outputId": "158082af-d5dd-49c0-a53d-0857b8e3150e"
      },
      "outputs": [
        {
          "output_type": "stream",
          "name": "stdout",
          "text": [
            "[14.1056338  13.62676056 13.14788732 12.66901408 12.19014085 11.71126761\n",
            " 11.23239437 10.75352113 10.27464789  9.79577465]\n"
          ]
        }
      ],
      "source": [
        "# Πρόχειρο άσκησης 2\n",
        "# - Σε αυτό το κελί μπορείτε να τυπώσετε μεταβλητές και να κάνετε γραφικές παραστάσεις για επαλήθευση. Δεν λαμβάνεται υπόψη στην βαθμολόγηση.\n",
        "\n",
        "print(myfunction2(1.0, 0.3, 6., 8.,10))"
      ]
    },
    {
      "cell_type": "markdown",
      "metadata": {
        "id": "kZ6laU6nvbz5"
      },
      "source": [
        "## Άσκηση 3\n",
        "Γράψτε μια συνάρτηση `myfunction3` που επιλύει το γραμμικό σύστημα:\n",
        "\n",
        "$$\n",
        "\\begin{bmatrix}\n",
        "3 & -1 & -2\\\\\n",
        "2 & 5 & -3\\\\\n",
        "3 & -2 & 5\n",
        "\\end{bmatrix}\n",
        "\\cdot\n",
        "\\begin{bmatrix} x_1\\\\ x_2\\\\ x_3 \\end{bmatrix}\n",
        "=\n",
        "\\begin{bmatrix} a+1\\\\ b+2\\\\ c+3 \\end{bmatrix}\n",
        "$$\n",
        "όπου a,b,c τα 3 τελευταία ψηφία του αριθμού μητρώου σας (c=τελευταίο).\n",
        "\n",
        "Χρησιμοποιήστε την μέθοδο Gauss-Seidel σταματώντας όταν όλα τα στοιχεία της καινούργιας εκτίμησης αποκλίνουν από την προηγούμενη λιγότερο από 2ΟE-4 κατά απόλυτη τιμή ή όταν το πλήθος των επαναλήψεων φτάσει τις 100. Η συνάρτηση θα δέχεται ως όρισμα ένα διάνυσμα $x_{init}$ με τις αρχικές τιμές και θα επιστρέφει ένα διάνυσμα 3 στοιχείων $[x_1,x_2,x_3]$ με τα τελικά αποτελέσματα.\n",
        "\n",
        "Ελέγξτε τα αποτελέσματα της συνάρτησης για $x_{init}=[0.,0.,0.]$ και $x_{init}=[100.,100.,100.]$.\n",
        "\n",
        "```\n",
        "Υπόδειξη: Χρησιμοποιήστε .copy(), όταν θέλετε να αντιγράψετε τις τιμές σε διαφορετικό χώρο μνήμης και όχι να δημιουργήσετε ένα δείκτη σε υπάρχοντα πίνακα.\n",
        "```\n",
        "```\n",
        "Ερώτηση για τις εξετάσεις: Ποιο διάνυσμα αρχικών τιμών δινει πιο γρήγορη σύγκλιση και γιατί;\n",
        "```"
      ]
    },
    {
      "cell_type": "code",
      "execution_count": 13,
      "metadata": {
        "id": "ezk_gZTUvbz5"
      },
      "outputs": [],
      "source": [
        "# Λύση της άσκησης 3\n",
        "# - Σε αυτό το κελί γράψτε μόνο τις ζητούμενες συναρτήσεις χωρίς print και input.\n",
        "\n",
        "def myfunction3(xinit: np.ndarray) -> np.ndarray:\n",
        "\n",
        "    a = 0\n",
        "    b = 9\n",
        "    c = 0\n",
        "\n",
        "    A = np.array([[3, 2, 3],\n",
        "                  [-1, 5, -2],\n",
        "                  [-2, -3, 5]])\n",
        "\n",
        "    b_vec = np.array([a + 1, b + 2, c + 3])\n",
        "\n",
        "    xnew = np.zeros(3)\n",
        "    xold = xinit.copy()\n",
        "    tolerance = 2e-4\n",
        "    max_iterations = 100\n",
        "\n",
        "    for iteration in range(max_iterations):\n",
        "        xold = xnew.copy()\n",
        "\n",
        "        xnew[0] = (b_vec[0] - A[0, 1] * xold[1] - A[0, 2] * xold[2]) / A[0, 0]\n",
        "        xnew[1] = (b_vec[1] - A[1, 0] * xnew[0] - A[1, 2] * xold[2]) / A[1, 1]\n",
        "        xnew[2] = (b_vec[2] - A[2, 0] * xnew[0] - A[2, 1] * xnew[1]) / A[2, 2]\n",
        "\n",
        "        if np.all(np.abs(xnew - xold) < tolerance):\n",
        "            break\n",
        "\n",
        "    return xnew\n",
        "\n",
        "xinit1 = np.array([0., 0., 0.])\n",
        "xinit2 = np.array([100., 100., 100.])\n",
        "\n",
        "result1 = myfunction3(xinit1)\n",
        "result2 = myfunction3(xinit2)"
      ]
    },
    {
      "cell_type": "code",
      "execution_count": 14,
      "metadata": {
        "tags": [
          "worksheet"
        ],
        "colab": {
          "base_uri": "https://localhost:8080/"
        },
        "id": "0Sp_wdNAvbz6",
        "outputId": "e4f1efa6-e2dc-4e8e-b212-ec9a942b448f"
      },
      "outputs": [
        {
          "output_type": "stream",
          "name": "stdout",
          "text": [
            "[-2.16667849  2.18420322  1.04385054] [-2.16667849  2.18420322  1.04385054]\n"
          ]
        }
      ],
      "source": [
        "# Πρόχειρο άσκησης 3\n",
        "# - Σε αυτό το κελί μπορείτε να τυπώσετε μεταβλητές και να κάνετε γραφικές παραστάσεις για επαλήθευση. Δεν λαμβάνεται υπόψη στην βαθμολόγηση.\n",
        "\n",
        "print(myfunction3(np.array([0., 0., 0.])),myfunction3(np.array([100., 100., 100.])))"
      ]
    }
  ],
  "metadata": {
    "kernelspec": {
      "display_name": "Python 3",
      "language": "python",
      "name": "python3"
    },
    "language_info": {
      "codemirror_mode": {
        "name": "ipython",
        "version": 3
      },
      "file_extension": ".py",
      "mimetype": "text/x-python",
      "name": "python",
      "nbconvert_exporter": "python",
      "pygments_lexer": "ipython3",
      "version": "3.12.0"
    },
    "varInspector": {
      "cols": {
        "lenName": 16,
        "lenType": 16,
        "lenVar": 40
      },
      "kernels_config": {
        "python": {
          "delete_cmd_postfix": "",
          "delete_cmd_prefix": "del ",
          "library": "var_list.py",
          "varRefreshCmd": "print(var_dic_list())"
        },
        "r": {
          "delete_cmd_postfix": ") ",
          "delete_cmd_prefix": "rm(",
          "library": "var_list.r",
          "varRefreshCmd": "cat(var_dic_list()) "
        }
      },
      "types_to_exclude": [
        "module",
        "function",
        "builtin_function_or_method",
        "instance",
        "_Feature"
      ],
      "window_display": false
    },
    "colab": {
      "provenance": []
    }
  },
  "nbformat": 4,
  "nbformat_minor": 0
}